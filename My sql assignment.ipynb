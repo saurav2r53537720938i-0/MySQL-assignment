{
 "cells": [
  {
   "cell_type": "markdown",
   "id": "63cbd56e-2a84-4bc1-8f34-da449f9a8a8b",
   "metadata": {},
   "source": [
    "A database is a structured collection of data that is organised and stored in a way that allows for efficent retrieval and manipulation. it serves as a repository for information used by applications."
   ]
  },
  {
   "cell_type": "markdown",
   "id": "25fbae9e-cf3e-4f23-bec5-aeea472252c7",
   "metadata": {},
   "source": [
    "1.SQL data\n",
    "* structure:relational database with dynamic schemas.\n",
    "* data model: tabular format with rows and columns.\n",
    "* scalability: vertical scaling(adding more servers to the database)\n",
    "* examples: MySQL,PostgreSQL,Oracle"
   ]
  },
  {
   "cell_type": "markdown",
   "id": "961c4050-330f-4034-9ad2-c0aab56c4246",
   "metadata": {},
   "source": [
    "2. NOSQL Database\n",
    "* structure: Non-relational database with dynamic schemas.\n",
    "* data model: various models like document, key-value, wide-column, or graph.\n",
    "* scalability: horizontal scaling(adding more servers to the database).\n",
    "* example: MongoDB,Cassandra,Redis"
   ]
  },
  {
   "cell_type": "markdown",
   "id": "2cea1e2a-f06e-409d-b36b-c0721a1dc43a",
   "metadata": {},
   "source": [
    "DDL stands for Data Defination Language,and it is a subset of SQL (structured query language) used to define and manage the structure of a database.DDL statements are responsible for defining and managing database objects,such as table and indexes"
   ]
  },
  {
   "cell_type": "markdown",
   "id": "09d35067-0318-4b63-98ca-e309359c3ba5",
   "metadata": {},
   "source": [
    "1. CREATE\n",
    "* purpose: used to create database object like tables, indexes, or views.\n",
    "* example : CREATE TABLE employees(id INT,name VARCHAR(255),salary DECIMAL);"
   ]
  },
  {
   "cell_type": "markdown",
   "id": "ffeb8ecc-7c03-4e08-9b89-e3669b08ef5a",
   "metadata": {},
   "source": [
    "2. DROP\n",
    "* purpose: used to delete existing database objects like tables or indexes.\n",
    "* example : DROP TABLE employees;"
   ]
  },
  {
   "cell_type": "markdown",
   "id": "0cb3a5ef-9ecc-4925-a879-607476edca59",
   "metadata": {},
   "source": [
    "3. ALTER\n",
    "* purpose: used to modify the structured of an existing database object,such as adding or deleting columns in a table.\n",
    "* example: ALTER TABLE employees ADD COLUMN age INT;"
   ]
  },
  {
   "cell_type": "markdown",
   "id": "2273417b-7035-42d7-830d-9dc8ffa046af",
   "metadata": {},
   "source": [
    "4. TURNCATE\n",
    "* purpose: used to remove all rows from a table without removing the table structure\n",
    "* example: TRUNCATE TABLE employees;"
   ]
  },
  {
   "cell_type": "markdown",
   "id": "38d1b4c6-93e2-4831-a7b2-9dce254eeda8",
   "metadata": {},
   "source": [
    "DML stands for data manipulation language,which is subset of SQL(structured query language) usesd for managining data in realational database.\n",
    "DML consists of three main operation INSERT,UPDATE, DELETE"
   ]
  },
  {
   "cell_type": "markdown",
   "id": "26202e2f-af88-44f5-8183-66485788f058",
   "metadata": {},
   "source": [
    "1. INSERT"
   ]
  },
  {
   "cell_type": "code",
   "execution_count": 4,
   "id": "48c2e403-18e6-4162-a7e0-686a0f871b02",
   "metadata": {},
   "outputs": [
    {
     "ename": "SyntaxError",
     "evalue": "invalid syntax (773431056.py, line 1)",
     "output_type": "error",
     "traceback": [
      "\u001b[0;36m  Cell \u001b[0;32mIn[4], line 1\u001b[0;36m\u001b[0m\n\u001b[0;31m    INSERTINTO employees(id,name,salary)\u001b[0m\n\u001b[0m               ^\u001b[0m\n\u001b[0;31mSyntaxError\u001b[0m\u001b[0;31m:\u001b[0m invalid syntax\n"
     ]
    }
   ],
   "source": [
    "INSERTINTO employees(id,name,salary)\n",
    "VALUES(1,'john Doe',50000);"
   ]
  },
  {
   "cell_type": "markdown",
   "id": "089034e8-eaa6-4d40-9100-b257493808ca",
   "metadata": {},
   "source": [
    "2. UPDATE"
   ]
  },
  {
   "cell_type": "code",
   "execution_count": 6,
   "id": "7dd6358f-07bc-4f3f-96c8-f591ebac28ea",
   "metadata": {},
   "outputs": [
    {
     "ename": "SyntaxError",
     "evalue": "invalid syntax (2265468552.py, line 1)",
     "output_type": "error",
     "traceback": [
      "\u001b[0;36m  Cell \u001b[0;32mIn[6], line 1\u001b[0;36m\u001b[0m\n\u001b[0;31m    UPDATE employees SET salary = 55000 WHERE id = 1;\u001b[0m\n\u001b[0m           ^\u001b[0m\n\u001b[0;31mSyntaxError\u001b[0m\u001b[0;31m:\u001b[0m invalid syntax\n"
     ]
    }
   ],
   "source": [
    "UPDATE employees SET salary = 55000 WHERE id = 1;"
   ]
  },
  {
   "cell_type": "markdown",
   "id": "a72d3bf1-8daf-4dbb-a86a-53399fbe49a7",
   "metadata": {},
   "source": [
    "3. DELETE"
   ]
  },
  {
   "cell_type": "code",
   "execution_count": 7,
   "id": "438d6406-cafe-429b-ba02-7bd4163fd1b6",
   "metadata": {},
   "outputs": [
    {
     "ename": "SyntaxError",
     "evalue": "invalid syntax (1860902449.py, line 1)",
     "output_type": "error",
     "traceback": [
      "\u001b[0;36m  Cell \u001b[0;32mIn[7], line 1\u001b[0;36m\u001b[0m\n\u001b[0;31m    DELETE FROM employees WHERE id = 1;\u001b[0m\n\u001b[0m           ^\u001b[0m\n\u001b[0;31mSyntaxError\u001b[0m\u001b[0;31m:\u001b[0m invalid syntax\n"
     ]
    }
   ],
   "source": [
    "DELETE FROM employees WHERE id = 1;"
   ]
  },
  {
   "cell_type": "markdown",
   "id": "a6ae1e9e-5df2-4104-8bce-f2a7f3035c94",
   "metadata": {},
   "source": [
    "DQL s.nds for Data Query Language,and it is a subset of SQL(structured query language) specifically designed for quering data from a relational database.The primary DQL statement is SELECT,which is used to retrive information from one or more tables."
   ]
  },
  {
   "cell_type": "markdown",
   "id": "3c917ae0-1830-4104-8fed-7f69d38196d7",
   "metadata": {},
   "source": [
    "SELECT is used to specify the columns you want to retrive and condtions that must be met for the rows to be included in the result set."
   ]
  },
  {
   "cell_type": "code",
   "execution_count": 8,
   "id": "a58e9746-68b5-44a0-9ac7-d4073e2e82ab",
   "metadata": {},
   "outputs": [
    {
     "ename": "SyntaxError",
     "evalue": "invalid syntax (2288766680.py, line 1)",
     "output_type": "error",
     "traceback": [
      "\u001b[0;36m  Cell \u001b[0;32mIn[8], line 1\u001b[0;36m\u001b[0m\n\u001b[0;31m    SELECT name, salary FROM employees WHERE department = 'IT';\u001b[0m\n\u001b[0m           ^\u001b[0m\n\u001b[0;31mSyntaxError\u001b[0m\u001b[0;31m:\u001b[0m invalid syntax\n"
     ]
    }
   ],
   "source": [
    "SELECT name, salary FROM employees WHERE department = 'IT';"
   ]
  },
  {
   "cell_type": "markdown",
   "id": "5b31b766-2542-44ce-93f8-ff08d566c084",
   "metadata": {},
   "source": [
    "* Primary Key:A primary key is a unique identifier for each record (row) in a database table.it ensures that each record can be distinctly identified and that there are no duplicate value in the primary key column"
   ]
  },
  {
   "cell_type": "code",
   "execution_count": 9,
   "id": "a1be85e8-5410-48e4-a23b-f1f2301e7f75",
   "metadata": {},
   "outputs": [
    {
     "ename": "SyntaxError",
     "evalue": "invalid syntax (604702522.py, line 1)",
     "output_type": "error",
     "traceback": [
      "\u001b[0;36m  Cell \u001b[0;32mIn[9], line 1\u001b[0;36m\u001b[0m\n\u001b[0;31m    CREATE TABLE students(student_id INT PRIMARY KEY,\u001b[0m\n\u001b[0m           ^\u001b[0m\n\u001b[0;31mSyntaxError\u001b[0m\u001b[0;31m:\u001b[0m invalid syntax\n"
     ]
    }
   ],
   "source": [
    "CREATE TABLE students(student_id INT PRIMARY KEY,\n",
    "                      name VARCHAR(50),\n",
    "                      age INT);"
   ]
  },
  {
   "cell_type": "markdown",
   "id": "5de4e1eb-84b2-4790-8352-b5d0e7a0270a",
   "metadata": {},
   "source": [
    "* foreign key: A foreign is a column or a set of column in a table that refers to the primary key of another table. it establishes a link between the two tables, creating a relationship."
   ]
  },
  {
   "cell_type": "code",
   "execution_count": 10,
   "id": "99205e83-b816-41ef-ba04-2b6b6cd39fb0",
   "metadata": {},
   "outputs": [
    {
     "ename": "SyntaxError",
     "evalue": "invalid syntax (4097094142.py, line 1)",
     "output_type": "error",
     "traceback": [
      "\u001b[0;36m  Cell \u001b[0;32mIn[10], line 1\u001b[0;36m\u001b[0m\n\u001b[0;31m    CREATE TABLE course(\u001b[0m\n\u001b[0m           ^\u001b[0m\n\u001b[0;31mSyntaxError\u001b[0m\u001b[0;31m:\u001b[0m invalid syntax\n"
     ]
    }
   ],
   "source": [
    "CREATE TABLE course(\n",
    "    course_id INT PRIMARY KEY,\n",
    "    course_name VARCHAR(50)\n",
    ");\n",
    "\n",
    "CREATE TABLE student_courses(\n",
    "    student_id INT,\n",
    "    student_id INT,\n",
    "    FOREIGN KEY (student_id)\n",
    "    REFERENCES students(student_id),\n",
    "    FOREIGN KEY (course_id)\n",
    "    REFERENCES courses(course_id)\n",
    ");"
   ]
  },
  {
   "cell_type": "code",
   "execution_count": 11,
   "id": "7ddd9878-c71f-4603-8d03-d3e9d4f713d6",
   "metadata": {},
   "outputs": [
    {
     "name": "stdout",
     "output_type": "stream",
     "text": [
      "Collecting mysql-connector-python\n",
      "  Downloading mysql_connector_python-8.2.0-cp310-cp310-manylinux_2_17_x86_64.whl (31.6 MB)\n",
      "\u001b[2K     \u001b[90m━━━━━━━━━━━━━━━━━━━━━━━━━━━━━━━━━━━━━━━━\u001b[0m \u001b[32m31.6/31.6 MB\u001b[0m \u001b[31m42.9 MB/s\u001b[0m eta \u001b[36m0:00:00\u001b[0m00:01\u001b[0m00:01\u001b[0m\n",
      "\u001b[?25hRequirement already satisfied: protobuf<=4.21.12,>=4.21.1 in /opt/conda/lib/python3.10/site-packages (from mysql-connector-python) (4.21.11)\n",
      "Installing collected packages: mysql-connector-python\n",
      "Successfully installed mysql-connector-python-8.2.0\n",
      "Note: you may need to restart the kernel to use updated packages.\n"
     ]
    }
   ],
   "source": [
    "pip install mysql-connector-python"
   ]
  },
  {
   "cell_type": "code",
   "execution_count": 12,
   "id": "f0fc428d-bd2b-4945-9da4-c3ad6a18de27",
   "metadata": {},
   "outputs": [],
   "source": [
    "import mysql.connector\n",
    "\n",
    "# Replace the placeholder with your MySQL server details\n",
    "db_config = {\n",
    "    'host': 'your_mysql_host',\n",
    "    'user': 'your_username',\n",
    "    'password': 'your_password',\n",
    "    'database':\n",
    "'your_database_name'\n",
    "}"
   ]
  },
  {
   "cell_type": "code",
   "execution_count": 17,
   "id": "0b87b767-1955-4e4b-8320-155cc6576a7e",
   "metadata": {},
   "outputs": [
    {
     "ename": "SyntaxError",
     "evalue": "unterminated string literal (detected at line 8) (3156505239.py, line 8)",
     "output_type": "error",
     "traceback": [
      "\u001b[0;36m  Cell \u001b[0;32mIn[17], line 8\u001b[0;36m\u001b[0m\n\u001b[0;31m    query = \"SELECT *FROM\u001b[0m\n\u001b[0m            ^\u001b[0m\n\u001b[0;31mSyntaxError\u001b[0m\u001b[0;31m:\u001b[0m unterminated string literal (detected at line 8)\n"
     ]
    }
   ],
   "source": [
    "# Establish a connection to the MySQL server\n",
    "connection =\n",
    "mysql.connector.connect(**db_config)\n",
    "\n",
    "create a cursor object to interact with the database\n",
    "cursor = connection.cursor()\n",
    "# Example: Execute a simple query\n",
    "query = \"SELECT *FROM\n",
    "your_table_name\"\n",
    "cursor.execute(query)\n",
    "\n",
    "# Fetch all the results\n",
    "results = cursor.fetchall()\n",
    "\n",
    "# Display the results\n",
    "for row in results:\n",
    "    print(row)\n",
    "    \n",
    "# Close the cursor and connection\n",
    "cursor.close()\n",
    "connection.close()"
   ]
  },
  {
   "cell_type": "markdown",
   "id": "1f15e674-1a40-4a60-b2bc-26de248d58b8",
   "metadata": {},
   "source": [
    "* CURSOR: A cursor is an object that enables you to interact with database by sending SQL queries and recieving results.it acts as a pointeror a handle to the result set of a query.In the code above ,cursor is created using\n",
    "connection.cursor()"
   ]
  },
  {
   "cell_type": "markdown",
   "id": "e503dfcb-72a1-49cf-b877-f2528d7a0d28",
   "metadata": {},
   "source": [
    "* Execute Method: The exceute method is used to execute SQL queries or commands through the cursor.\n",
    " cursor.execute(query)"
   ]
  },
  {
   "cell_type": "markdown",
   "id": "6f935cb6-2d7d-47bb-afd7-b7ad2db9adb5",
   "metadata": {},
   "source": [
    "The order of execution of SQL in an SQL query genrally follows this sequence:"
   ]
  },
  {
   "cell_type": "markdown",
   "id": "b7e84152-3955-4662-bab7-d9b118415658",
   "metadata": {},
   "source": [
    "1. FROM: specifies the table or tables from which to retrieve data."
   ]
  },
  {
   "cell_type": "markdown",
   "id": "2768b9fb-f79f-45b4-abad-b999eaa55674",
   "metadata": {},
   "source": [
    "2. WHERE: Filters the rows based on specified condtions"
   ]
  },
  {
   "cell_type": "code",
   "execution_count": null,
   "id": "661a5142-9132-47df-93a4-3a73445f5b4c",
   "metadata": {},
   "outputs": [],
   "source": [
    "3. "
   ]
  }
 ],
 "metadata": {
  "kernelspec": {
   "display_name": "Python 3 (ipykernel)",
   "language": "python",
   "name": "python3"
  },
  "language_info": {
   "codemirror_mode": {
    "name": "ipython",
    "version": 3
   },
   "file_extension": ".py",
   "mimetype": "text/x-python",
   "name": "python",
   "nbconvert_exporter": "python",
   "pygments_lexer": "ipython3",
   "version": "3.10.8"
  }
 },
 "nbformat": 4,
 "nbformat_minor": 5
}
